{
 "cells": [
  {
   "cell_type": "code",
   "execution_count": null,
   "metadata": {},
   "outputs": [],
   "source": [
    "import matplotlib.pyplot as plt\n",
    "import numpy as np\n",
    "import gizmo_read"
   ]
  },
  {
   "cell_type": "markdown",
   "metadata": {},
   "source": [
    "### Prepare file to input into Jeans routine"
   ]
  },
  {
   "cell_type": "code",
   "execution_count": null,
   "metadata": {
    "scrolled": false
   },
   "outputs": [],
   "source": [
    "sim = \"m12m\"  # \"m12f\", \"m12i\", or \"m12m\"\n",
    "part = gizmo_read.read.Read.read_snapshot(species=['star'], \n",
    "                                          properties=['position', 'velocity', 'mass', 'massfraction', 'form.scalefactor'], \n",
    "                                          directory=f'data/{sim}')\n"
   ]
  },
  {
   "cell_type": "code",
   "execution_count": null,
   "metadata": {},
   "outputs": [],
   "source": [
    "x = part['star']['position'][:,0]\n",
    "y = part['star']['position'][:,1]\n",
    "z = part['star']['position'][:,2]\n",
    "r = (x**2+y**2+z**2)**0.5\n",
    "\n",
    "radlim = (r < 600)\n",
    "r = r[radlim]"
   ]
  },
  {
   "cell_type": "markdown",
   "metadata": {},
   "source": [
    "$$[M/H] = \\log_{10}{\\bigg(\\frac{Z_{part}}{X_{part}}\\bigg)} - \\log_{10}{\\bigg(\\frac{Z_{sun}}{X_{sun}}\\bigg)}$$"
   ]
  },
  {
   "cell_type": "code",
   "execution_count": null,
   "metadata": {},
   "outputs": [],
   "source": [
    "Y_part = part['star']['massfraction'][:,1][radlim]  # mass fraction of He\n",
    "Z_part = part['star']['massfraction'][:,0][radlim]  # mass fraction of metals (everything except H, He)\n",
    "X_part = 1 - (Y_part + Z_part)                      # mass fraction of H\n",
    "print(f\"X_part_avg={np.mean(X_part):.4f}, Y_part_avg={np.mean(Y_part):.4f}, Z_part_avg={np.mean(Z_part):.4f}\")\n",
    "\n",
    "X_sun = gizmo_read.constant.sun_composition['hydrogen']['massfraction']\n",
    "Y_sun = gizmo_read.constant.sun_composition['helium']['massfraction']\n",
    "Z_sun = gizmo_read.constant.sun_composition['metals']['massfraction']\n",
    "print(f\"X_sun={X_sun:.4f}, Y_sun={Y_sun:.4f}, Z_sun={Z_sun:.4f}\")\n",
    "\n",
    "# [M/H]\n",
    "metallicity = np.log10(Z_part/X_part) - np.log10(Z_sun/X_sun)\n",
    "\n",
    "plt.figure()\n",
    "plt.ylabel('[M/H]')\n",
    "plt.xlabel('Radius (kpc)')\n",
    "plt.ylim([-5.5,2])\n",
    "plt.scatter(r[::100], metallicity[::100], marker='.', alpha=0.1)\n",
    "plt.axhline(-1.5, c='r', label='[M/H] = -1.5 cutoff')\n",
    "plt.legend()\n",
    "plt.show()"
   ]
  },
  {
   "cell_type": "code",
   "execution_count": null,
   "metadata": {},
   "outputs": [],
   "source": [
    "age = part['star']['age'][radlim]\n",
    "\n",
    "plt.figure()\n",
    "plt.ylabel('Age (Gyr)')\n",
    "plt.xlabel('Radius (kpc)')\n",
    "plt.scatter(r[::100], age[::100], marker='.', alpha=0.1)\n",
    "plt.axhline(8, c='r', label='Age = 8 Gyr cutoff')\n",
    "plt.legend()\n",
    "plt.show()"
   ]
  },
  {
   "cell_type": "code",
   "execution_count": null,
   "metadata": {},
   "outputs": [],
   "source": [
    "# [M/H] and age threshold to select halo stars\n",
    "halo = (metallicity < -1.5) * (age > 8)"
   ]
  },
  {
   "cell_type": "code",
   "execution_count": null,
   "metadata": {},
   "outputs": [],
   "source": [
    "# apply halo selection to all quantities\n",
    "x = x[radlim][halo]; y = y[radlim][halo]; z = z[radlim][halo]; r = r[halo]\n",
    "vx = part['star']['velocity'][:,0][radlim][halo]\n",
    "vy = part['star']['velocity'][:,1][radlim][halo]\n",
    "vz = part['star']['velocity'][:,2][radlim][halo]\n",
    "m  = part['star']['mass'][radlim][halo]"
   ]
  },
  {
   "cell_type": "code",
   "execution_count": null,
   "metadata": {},
   "outputs": [],
   "source": [
    "# precompute spherical velocities for use in jeans\n",
    "sphvels = gizmo_read.coordinate.get_velocities_in_coordinate_system(part['star']['velocity'][radlim][halo], \n",
    "                                                                    part['star']['position'][radlim][halo],\n",
    "                                                                    system_from='cartesian',\n",
    "                                                                    system_to='spherical')\n",
    "vr, vtheta, vphi = np.transpose(sphvels)"
   ]
  },
  {
   "cell_type": "code",
   "execution_count": null,
   "metadata": {},
   "outputs": [],
   "source": [
    "# Write data to disk\n",
    "np.savetxt(\n",
    "    fname=f\"data/{sim}_prejeans.csv\", \n",
    "    X=np.stack([x, y, z, vx, vy, vz, m, r, vr**2, vtheta**2, vphi**2], axis=1), delimiter=',', \n",
    "    header=\"x, y, z [kpc], vx, vy, vz [km/s], mass [Msun], gc_radius, vr_sq, vtheta_sq, vphi_sq [km2/s2]\"\n",
    ")"
   ]
  },
  {
   "cell_type": "markdown",
   "metadata": {},
   "source": [
    "### Prepare file to plot true M(<r) profile"
   ]
  },
  {
   "cell_type": "code",
   "execution_count": null,
   "metadata": {},
   "outputs": [],
   "source": [
    "# Need radii and masses of all particle types for true enclosed mass profile\n",
    "sim = \"m12f\"\n",
    "part = gizmo_read.read.Read.read_snapshot(species=['star', 'dark', 'gas'], \n",
    "                                          properties=['position', 'mass'], \n",
    "                                          directory=f'data/{sim}')\n"
   ]
  },
  {
   "cell_type": "code",
   "execution_count": null,
   "metadata": {},
   "outputs": [],
   "source": [
    "# calculate radii of each particle type\n",
    "r_star = (part['star']['position'][:,0]**2+part['star']['position'][:,1]**2+part['star']['position'][:,2]**2)**0.5\n",
    "r_dark = (part['dark']['position'][:,0]**2+part['dark']['position'][:,1]**2+part['dark']['position'][:,2]**2)**0.5\n",
    "r_gas  = (part['gas'] ['position'][:,0]**2+part['gas'] ['position'][:,1]**2+part['gas'] ['position'][:,2]**2)**0.5\n",
    "\n",
    "radlim_star = (r_star < 600); radlim_dark = (r_dark < 600); radlim_gas  = (r_gas < 600)\n",
    "\n",
    "r_star = r_star[radlim_star]; r_dark = r_dark[radlim_dark]; r_gas = r_gas[radlim_gas]"
   ]
  },
  {
   "cell_type": "code",
   "execution_count": null,
   "metadata": {},
   "outputs": [],
   "source": [
    "# collect radii and masses of all particles and sort by radius\n",
    "all_radii = np.concatenate((r_star, r_dark, r_gas))\n",
    "all_masses = np.concatenate((part['star']['mass'][radlim_star], \n",
    "                             part['dark']['mass'][radlim_dark], \n",
    "                             part['gas']['mass'][radlim_gas]))\n",
    "\n",
    "sorter = np.argsort(all_radii)\n",
    "all_radii  = all_radii [sorter]\n",
    "all_masses = all_masses[sorter]\n",
    "\n",
    "# cumulative sum of sorted masses is mass enclosed\n",
    "Menc = np.cumsum(all_masses, dtype=np.float64)"
   ]
  },
  {
   "cell_type": "code",
   "execution_count": null,
   "metadata": {},
   "outputs": [],
   "source": [
    "# Thin profile to save storage space but maintain enough resolution for a smooth profile\n",
    "plt.plot(all_radii[::500], Menc[::500])\n",
    "plt.xlim([0,100])\n",
    "plt.xlabel('gc radius [kpc]')\n",
    "plt.ylabel('True M(<r) [Msun]')\n",
    "plt.show()"
   ]
  },
  {
   "cell_type": "code",
   "execution_count": null,
   "metadata": {},
   "outputs": [],
   "source": [
    "# Write data to disk\n",
    "np.savetxt(\n",
    "    fname=f\"data/{sim}_true.csv\", \n",
    "    X=np.stack([all_radii[::500], Menc[::500]], axis=1), delimiter=',', \n",
    "    header=\"r [kpc], M(<r)_true [Msun]\"\n",
    ")"
   ]
  },
  {
   "cell_type": "code",
   "execution_count": null,
   "metadata": {},
   "outputs": [],
   "source": [
    "# clear up some memory after writing file\n",
    "del part, r_star, r_dark, r_gas, radlim_star, radlim_dark, radlim_gas, all_radii, all_masses, sorter, Menc"
   ]
  }
 ],
 "metadata": {
  "kernelspec": {
   "display_name": "Python 3 (ipykernel)",
   "language": "python",
   "name": "python3"
  },
  "language_info": {
   "codemirror_mode": {
    "name": "ipython",
    "version": 3
   },
   "file_extension": ".py",
   "mimetype": "text/x-python",
   "name": "python",
   "nbconvert_exporter": "python",
   "pygments_lexer": "ipython3",
   "version": "3.8.2"
  }
 },
 "nbformat": 4,
 "nbformat_minor": 4
}
